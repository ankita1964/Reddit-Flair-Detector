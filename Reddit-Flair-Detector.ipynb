{
 "cells": [
  {
   "cell_type": "markdown",
   "metadata": {},
   "source": [
    "<h1>3 Flair Detector </h1>\n",
    "<br>\n",
    "The Logistic Regression classification algorithm is easily generalized to multiple classes. "
   ]
  },
  {
   "cell_type": "code",
   "execution_count": 44,
   "metadata": {},
   "outputs": [],
   "source": [
    "import pandas as pd\n",
    "import os\n",
    "india_data = pd.read_csv(\"reddit_india_data.csv\")"
   ]
  },
  {
   "cell_type": "code",
   "execution_count": 45,
   "metadata": {},
   "outputs": [],
   "source": [
    "flairs = india_data.flair.unique()"
   ]
  },
  {
   "cell_type": "markdown",
   "metadata": {},
   "source": [
    "<b>3.1 Text Pre-Processing:</b> For our data set from reddit, the text cleaning step includes:\n",
    "    a) remove stop words, \n",
    "    b) change text to lower case, \n",
    "    c) remove punctuation, \n",
    "    d) remove bad characters\n",
    "  \n",
    "In the print_val funtion, when an index value between 0 and 999 is given (as understood from 2.1 where we found out the size of the data frame), the title and the flair at that index which are stored into the list \"val\" will be printed to display the information that will be relevant to the classifier that is, the title and the flair. We are defining this function to recognize what kind of text-preprocessing will be required on our data. </p>"
   ]
  },
  {
   "cell_type": "code",
   "execution_count": 46,
   "metadata": {},
   "outputs": [],
   "source": [
    "def print_val(index):\n",
    "    val = india_data[india_data.index == index].values[0]\n",
    "    print('Title: ', val[1])\n",
    "    print('Flair:', val[0])"
   ]
  },
  {
   "cell_type": "markdown",
   "metadata": {},
   "source": [
    "<p><b>3.2 </b>Using the regular expression module, we describe the symbols that need replacement with space and need to be removed. This is done with the sub() function in the re module. In stop_words, we store the stopwords list taken from the natural language toolkit (nltk). </p>"
   ]
  },
  {
   "cell_type": "code",
   "execution_count": 47,
   "metadata": {},
   "outputs": [],
   "source": [
    "import re\n",
    "import nltk\n",
    "from nltk.corpus import stopwords\n",
    "\n",
    "replace_by_space = re.compile('[/(){}\\[\\]\\|@,;]')\n",
    "bad_symbols = re.compile('[^0-9a-z #+_]')\n",
    "stop_words = stopwords.words('english')\n",
    "\n",
    "def clean_data(text):\n",
    "    #converting to lowercase\n",
    "    text = text.lower()\n",
    "    #re.sub(new_value, text_to_processed) \n",
    "    text = replace_by_space.sub(' ', text)\n",
    "    text = bad_symbols.sub('', text)\n",
    "    #removing the stopwords\n",
    "    text = ' '.join(word for word in text.split() if word not in stop_words) \n",
    "    return text"
   ]
  },
  {
   "cell_type": "markdown",
   "metadata": {},
   "source": [
    "<p><b>3.2</b> The url has certain values that could negatively impact the model's prediction therefore it needs an extra cleaning step where we remove http, https and www from the string. </p>"
   ]
  },
  {
   "cell_type": "code",
   "execution_count": 48,
   "metadata": {},
   "outputs": [],
   "source": [
    "def clean_url(u):\n",
    "    if u.startswith(\"http://\"):\n",
    "        u = u[7:]\n",
    "    if u.startswith(\"https://\"):\n",
    "        u = u[8:]\n",
    "    if u.startswith(\"www.\"):\n",
    "        u = u[4:]\n",
    "    if u.endswith(\"/\"):\n",
    "        u = u[:-1]\n",
    "    return u"
   ]
  },
  {
   "cell_type": "markdown",
   "metadata": {},
   "source": [
    "<p><b>3.3</b> Cleaning all the values that will be taken into consideration for the classifier. </p>"
   ]
  },
  {
   "cell_type": "code",
   "execution_count": 49,
   "metadata": {},
   "outputs": [],
   "source": [
    "india_data['title'] = india_data['title'].apply(clean_data)\n",
    "india_data['comments'] = india_data['comments'].astype('str').apply(clean_data)\n",
    "india_data['body'] = india_data['body'].astype('str').apply(clean_data)\n",
    "\n",
    "india_data['url'] = india_data['url'].apply(clean_url)\n",
    "india_data['url'] = india_data['url'].apply(clean_data)"
   ]
  },
  {
   "cell_type": "markdown",
   "metadata": {},
   "source": [
    "<h3> Logistic Regression Model (Title) </h3>"
   ]
  },
  {
   "cell_type": "code",
   "execution_count": 7,
   "metadata": {},
   "outputs": [],
   "source": [
    "from sklearn.model_selection import train_test_split\n",
    "X = india_data.title\n",
    "y = india_data.flair\n",
    "\n",
    "X_train, X_test, y_train, y_test = train_test_split(X, y, test_size=0.2) #random state instance will be created by np.random"
   ]
  },
  {
   "cell_type": "code",
   "execution_count": 8,
   "metadata": {},
   "outputs": [
    {
     "name": "stdout",
     "output_type": "stream",
     "text": [
      "accuracy 0.74\n",
      "                  precision    recall  f1-score   support\n",
      "\n",
      "   Non-Political       0.63      0.60      0.62        20\n",
      "       Scheduled       0.60      0.56      0.58        27\n",
      "     Photography       0.91      0.95      0.93        21\n",
      "        Politics       0.95      0.95      0.95        19\n",
      "Business/Finance       0.93      0.93      0.93        14\n",
      "  Policy/Economy       0.78      0.90      0.84        20\n",
      "          Sports       0.46      0.60      0.52        20\n",
      "            Food       0.82      0.85      0.84        27\n",
      "        AskIndia       0.69      0.55      0.61        20\n",
      "     Coronavirus       0.75      0.50      0.60        12\n",
      "\n",
      "        accuracy                           0.74       200\n",
      "       macro avg       0.75      0.74      0.74       200\n",
      "    weighted avg       0.74      0.74      0.74       200\n",
      "\n"
     ]
    },
    {
     "name": "stderr",
     "output_type": "stream",
     "text": [
      "C:\\Users\\alkaa\\anaconda3\\lib\\site-packages\\sklearn\\linear_model\\_logistic.py:940: ConvergenceWarning: lbfgs failed to converge (status=1):\n",
      "STOP: TOTAL NO. of ITERATIONS REACHED LIMIT.\n",
      "\n",
      "Increase the number of iterations (max_iter) or scale the data as shown in:\n",
      "    https://scikit-learn.org/stable/modules/preprocessing.html\n",
      "Please also refer to the documentation for alternative solver options:\n",
      "    https://scikit-learn.org/stable/modules/linear_model.html#logistic-regression\n",
      "  extra_warning_msg=_LOGISTIC_SOLVER_CONVERGENCE_MSG)\n"
     ]
    }
   ],
   "source": [
    "from sklearn.pipeline import Pipeline\n",
    "from sklearn.feature_extraction.text import CountVectorizer\n",
    "from sklearn.feature_extraction.text import TfidfTransformer\n",
    "from sklearn.linear_model import LogisticRegression\n",
    "from sklearn.metrics import accuracy_score, confusion_matrix\n",
    "from sklearn.metrics import classification_report\n",
    "\n",
    "\n",
    "logreg = Pipeline([('vect', CountVectorizer()),\n",
    "                   ('tfidf', TfidfTransformer()),\n",
    "                   ('clf', LogisticRegression(n_jobs=1, C=1e5))])\n",
    "logreg.fit(X_train, y_train)\n",
    "\n",
    "y_pred = logreg.predict(X_test)\n",
    "print('accuracy %s' % accuracy_score(y_pred, y_test))\n",
    "print(classification_report(y_test, y_pred,target_names=flairs))"
   ]
  },
  {
   "cell_type": "markdown",
   "metadata": {},
   "source": [
    "<p>The accuracy from Logistic Regression is seen to be around 72% </p>"
   ]
  },
  {
   "cell_type": "markdown",
   "metadata": {},
   "source": [
    "<h3>Logistic Regression Model (Title + Comments) </h3>"
   ]
  },
  {
   "cell_type": "code",
   "execution_count": 51,
   "metadata": {},
   "outputs": [],
   "source": [
    "india_data['title'] = india_data['title'] + india_data['comments']"
   ]
  },
  {
   "cell_type": "code",
   "execution_count": 52,
   "metadata": {},
   "outputs": [],
   "source": [
    "from sklearn.model_selection import train_test_split\n",
    "X = india_data.title\n",
    "y = india_data.flair\n",
    "\n",
    "X_train, X_test, y_train, y_test = train_test_split(X, y, test_size=0.2) #random state instance will be created by np.random"
   ]
  },
  {
   "cell_type": "code",
   "execution_count": 53,
   "metadata": {},
   "outputs": [
    {
     "name": "stdout",
     "output_type": "stream",
     "text": [
      "accuracy 0.65\n",
      "                  precision    recall  f1-score   support\n",
      "\n",
      "   Non-Political       0.57      0.50      0.53        26\n",
      "       Scheduled       0.67      0.43      0.52        28\n",
      "     Photography       0.82      0.74      0.78        19\n",
      "        Politics       0.80      1.00      0.89        20\n",
      "Business/Finance       0.47      0.80      0.59        10\n",
      "  Policy/Economy       0.94      0.83      0.88        18\n",
      "          Sports       0.47      0.33      0.39        21\n",
      "            Food       0.54      0.81      0.65        16\n",
      "        AskIndia       0.56      0.62      0.59        24\n",
      "     Coronavirus       0.72      0.72      0.72        18\n",
      "\n",
      "        accuracy                           0.65       200\n",
      "       macro avg       0.65      0.68      0.65       200\n",
      "    weighted avg       0.66      0.65      0.64       200\n",
      "\n"
     ]
    },
    {
     "name": "stderr",
     "output_type": "stream",
     "text": [
      "C:\\Users\\alkaa\\anaconda3\\lib\\site-packages\\sklearn\\linear_model\\_logistic.py:940: ConvergenceWarning: lbfgs failed to converge (status=1):\n",
      "STOP: TOTAL NO. of ITERATIONS REACHED LIMIT.\n",
      "\n",
      "Increase the number of iterations (max_iter) or scale the data as shown in:\n",
      "    https://scikit-learn.org/stable/modules/preprocessing.html\n",
      "Please also refer to the documentation for alternative solver options:\n",
      "    https://scikit-learn.org/stable/modules/linear_model.html#logistic-regression\n",
      "  extra_warning_msg=_LOGISTIC_SOLVER_CONVERGENCE_MSG)\n"
     ]
    }
   ],
   "source": [
    "from sklearn.pipeline import Pipeline\n",
    "from sklearn.feature_extraction.text import CountVectorizer\n",
    "from sklearn.feature_extraction.text import TfidfTransformer\n",
    "from sklearn.linear_model import LogisticRegression\n",
    "from sklearn.metrics import accuracy_score, confusion_matrix\n",
    "from sklearn.metrics import classification_report\n",
    "\n",
    "\n",
    "logreg = Pipeline([('vect', CountVectorizer()),\n",
    "                   ('tfidf', TfidfTransformer()),\n",
    "                   ('clf', LogisticRegression(n_jobs=1, C=1e5))])\n",
    "logreg.fit(X_train, y_train)\n",
    "\n",
    "y_pred = logreg.predict(X_test)\n",
    "print('accuracy %s' % accuracy_score(y_pred, y_test))\n",
    "print(classification_report(y_test, y_pred,target_names=flairs))"
   ]
  },
  {
   "cell_type": "markdown",
   "metadata": {},
   "source": [
    "<h3>Logistic Regression Model (Title + Comments + Body) </h3>"
   ]
  },
  {
   "cell_type": "code",
   "execution_count": 12,
   "metadata": {},
   "outputs": [],
   "source": [
    "india_data['title'] = india_data['title'] + '  ' + india_data['comments'] + '  ' + india_data['body']"
   ]
  },
  {
   "cell_type": "code",
   "execution_count": 13,
   "metadata": {},
   "outputs": [],
   "source": [
    "from sklearn.model_selection import train_test_split\n",
    "X = india_data.title\n",
    "y = india_data.flair\n",
    "\n",
    "X_train, X_test, y_train, y_test = train_test_split(X, y, test_size=0.2) #random state instance will be created by np.random"
   ]
  },
  {
   "cell_type": "code",
   "execution_count": 14,
   "metadata": {},
   "outputs": [
    {
     "name": "stderr",
     "output_type": "stream",
     "text": [
      "C:\\Users\\alkaa\\anaconda3\\lib\\site-packages\\sklearn\\linear_model\\_logistic.py:940: ConvergenceWarning: lbfgs failed to converge (status=1):\n",
      "STOP: TOTAL NO. of ITERATIONS REACHED LIMIT.\n",
      "\n",
      "Increase the number of iterations (max_iter) or scale the data as shown in:\n",
      "    https://scikit-learn.org/stable/modules/preprocessing.html\n",
      "Please also refer to the documentation for alternative solver options:\n",
      "    https://scikit-learn.org/stable/modules/linear_model.html#logistic-regression\n",
      "  extra_warning_msg=_LOGISTIC_SOLVER_CONVERGENCE_MSG)\n"
     ]
    },
    {
     "name": "stdout",
     "output_type": "stream",
     "text": [
      "accuracy 0.67\n",
      "                  precision    recall  f1-score   support\n",
      "\n",
      "   Non-Political       0.47      0.47      0.47        15\n",
      "       Scheduled       0.48      0.62      0.54        16\n",
      "     Photography       0.67      0.70      0.68        23\n",
      "        Politics       0.82      0.86      0.84        21\n",
      "Business/Finance       0.61      0.55      0.58        20\n",
      "  Policy/Economy       0.93      0.88      0.90        16\n",
      "          Sports       0.69      0.39      0.50        23\n",
      "            Food       0.67      0.64      0.65        28\n",
      "        AskIndia       0.58      0.71      0.64        21\n",
      "     Coronavirus       0.84      0.94      0.89        17\n",
      "\n",
      "        accuracy                           0.67       200\n",
      "       macro avg       0.68      0.68      0.67       200\n",
      "    weighted avg       0.68      0.67      0.67       200\n",
      "\n"
     ]
    }
   ],
   "source": [
    "from sklearn.pipeline import Pipeline\n",
    "from sklearn.feature_extraction.text import CountVectorizer\n",
    "from sklearn.feature_extraction.text import TfidfTransformer\n",
    "from sklearn.linear_model import LogisticRegression\n",
    "from sklearn.metrics import accuracy_score, confusion_matrix\n",
    "from sklearn.metrics import classification_report\n",
    "\n",
    "\n",
    "logreg = Pipeline([('vect', CountVectorizer()),\n",
    "                   ('tfidf', TfidfTransformer()),\n",
    "                   ('clf', LogisticRegression(n_jobs=1, C=1e5))])\n",
    "logreg.fit(X_train, y_train)\n",
    "\n",
    "y_pred = logreg.predict(X_test)\n",
    "print('accuracy %s' % accuracy_score(y_pred, y_test))\n",
    "print(classification_report(y_test, y_pred,target_names=flairs))"
   ]
  },
  {
   "cell_type": "markdown",
   "metadata": {},
   "source": [
    "<h3>Logistic Regression Model (Title + Comments + Body + URL) </h3>"
   ]
  },
  {
   "cell_type": "code",
   "execution_count": 57,
   "metadata": {},
   "outputs": [],
   "source": [
    "india_data['title'] = india_data['title'] + '  ' + india_data['comments'] + '  ' + india_data['body'] + ' ' + india_data['url']"
   ]
  },
  {
   "cell_type": "code",
   "execution_count": 58,
   "metadata": {},
   "outputs": [],
   "source": [
    "from sklearn.model_selection import train_test_split\n",
    "X = india_data.title\n",
    "y = india_data.flair\n",
    "\n",
    "X_train, X_test, y_train, y_test = train_test_split(X, y, test_size=0.2) #random state instance will be created by np.random"
   ]
  },
  {
   "cell_type": "code",
   "execution_count": 40,
   "metadata": {},
   "outputs": [
    {
     "name": "stdout",
     "output_type": "stream",
     "text": [
      "accuracy 0.775\n",
      "                  precision    recall  f1-score   support\n",
      "\n",
      "   Non-Political       0.50      0.43      0.46        21\n",
      "       Scheduled       0.83      0.68      0.75        22\n",
      "     Photography       0.89      0.94      0.91        17\n",
      "        Politics       0.93      0.93      0.93        28\n",
      "Business/Finance       0.73      0.79      0.76        24\n",
      "  Policy/Economy       0.93      0.93      0.93        14\n",
      "          Sports       0.57      0.80      0.67        15\n",
      "            Food       0.65      0.65      0.65        20\n",
      "        AskIndia       0.83      0.68      0.75        22\n",
      "     Coronavirus       0.89      1.00      0.94        17\n",
      "\n",
      "        accuracy                           0.78       200\n",
      "       macro avg       0.78      0.78      0.78       200\n",
      "    weighted avg       0.78      0.78      0.77       200\n",
      "\n"
     ]
    },
    {
     "name": "stderr",
     "output_type": "stream",
     "text": [
      "C:\\Users\\alkaa\\anaconda3\\lib\\site-packages\\sklearn\\linear_model\\_logistic.py:940: ConvergenceWarning: lbfgs failed to converge (status=1):\n",
      "STOP: TOTAL NO. of ITERATIONS REACHED LIMIT.\n",
      "\n",
      "Increase the number of iterations (max_iter) or scale the data as shown in:\n",
      "    https://scikit-learn.org/stable/modules/preprocessing.html\n",
      "Please also refer to the documentation for alternative solver options:\n",
      "    https://scikit-learn.org/stable/modules/linear_model.html#logistic-regression\n",
      "  extra_warning_msg=_LOGISTIC_SOLVER_CONVERGENCE_MSG)\n"
     ]
    }
   ],
   "source": [
    "from sklearn.pipeline import Pipeline\n",
    "from sklearn.feature_extraction.text import CountVectorizer\n",
    "from sklearn.feature_extraction.text import TfidfTransformer\n",
    "from sklearn.linear_model import LogisticRegression\n",
    "from sklearn.metrics import accuracy_score, confusion_matrix\n",
    "from sklearn.metrics import classification_report\n",
    "\n",
    "\n",
    "logreg = Pipeline([('vect', CountVectorizer()),\n",
    "                   ('tfidf', TfidfTransformer()),\n",
    "                   ('clf', LogisticRegression(n_jobs=1, C=1e5))])\n",
    "logreg.fit(X_train, y_train)\n",
    "\n",
    "y_pred = logreg.predict(X_test)\n",
    "print('accuracy %s' % accuracy_score(y_pred, y_test))\n",
    "print(classification_report(y_test, y_pred,target_names=flairs))"
   ]
  },
  {
   "cell_type": "markdown",
   "metadata": {},
   "source": [
    "<h3>Logistic Regression Model (Title + Comments + URL) </h3>"
   ]
  },
  {
   "cell_type": "code",
   "execution_count": 54,
   "metadata": {},
   "outputs": [],
   "source": [
    "india_data['title'] = india_data['title'] + '  ' + india_data['comments'] + '  ' + india_data['url']"
   ]
  },
  {
   "cell_type": "code",
   "execution_count": 55,
   "metadata": {},
   "outputs": [],
   "source": [
    "from sklearn.model_selection import train_test_split\n",
    "X = india_data.title\n",
    "y = india_data.flair\n",
    "\n",
    "X_train, X_test, y_train, y_test = train_test_split(X, y, test_size=0.2) #random state instance will be created by np.random"
   ]
  },
  {
   "cell_type": "code",
   "execution_count": 56,
   "metadata": {},
   "outputs": [
    {
     "name": "stderr",
     "output_type": "stream",
     "text": [
      "C:\\Users\\alkaa\\anaconda3\\lib\\site-packages\\sklearn\\linear_model\\_logistic.py:940: ConvergenceWarning: lbfgs failed to converge (status=1):\n",
      "STOP: TOTAL NO. of ITERATIONS REACHED LIMIT.\n",
      "\n",
      "Increase the number of iterations (max_iter) or scale the data as shown in:\n",
      "    https://scikit-learn.org/stable/modules/preprocessing.html\n",
      "Please also refer to the documentation for alternative solver options:\n",
      "    https://scikit-learn.org/stable/modules/linear_model.html#logistic-regression\n",
      "  extra_warning_msg=_LOGISTIC_SOLVER_CONVERGENCE_MSG)\n"
     ]
    },
    {
     "name": "stdout",
     "output_type": "stream",
     "text": [
      "accuracy 0.665\n",
      "                  precision    recall  f1-score   support\n",
      "\n",
      "   Non-Political       0.32      0.50      0.39        16\n",
      "       Scheduled       0.71      0.68      0.69        25\n",
      "     Photography       0.74      0.74      0.74        19\n",
      "        Politics       0.80      0.94      0.86        17\n",
      "Business/Finance       0.52      0.61      0.56        18\n",
      "  Policy/Economy       0.75      0.79      0.77        19\n",
      "          Sports       0.72      0.54      0.62        24\n",
      "            Food       0.67      0.70      0.68        20\n",
      "        AskIndia       0.56      0.60      0.58        15\n",
      "     Coronavirus       1.00      0.59      0.74        27\n",
      "\n",
      "        accuracy                           0.67       200\n",
      "       macro avg       0.68      0.67      0.66       200\n",
      "    weighted avg       0.70      0.67      0.67       200\n",
      "\n"
     ]
    }
   ],
   "source": [
    "from sklearn.pipeline import Pipeline\n",
    "from sklearn.feature_extraction.text import CountVectorizer\n",
    "from sklearn.feature_extraction.text import TfidfTransformer\n",
    "from sklearn.linear_model import LogisticRegression\n",
    "from sklearn.metrics import accuracy_score, confusion_matrix\n",
    "from sklearn.metrics import classification_report\n",
    "\n",
    "\n",
    "logreg = Pipeline([('vect', CountVectorizer()),\n",
    "                   ('tfidf', TfidfTransformer()),\n",
    "                   ('clf', LogisticRegression(n_jobs=1, C=1e5))])\n",
    "logreg.fit(X_train, y_train)\n",
    "\n",
    "y_pred = logreg.predict(X_test)\n",
    "print('accuracy %s' % accuracy_score(y_pred, y_test))\n",
    "print(classification_report(y_test, y_pred,target_names=flairs))"
   ]
  },
  {
   "cell_type": "markdown",
   "metadata": {},
   "source": [
    "<h3>Logistic Regression Model (Title + URL) </h3>"
   ]
  },
  {
   "cell_type": "code",
   "execution_count": 21,
   "metadata": {},
   "outputs": [],
   "source": [
    "india_data['title'] = india_data['title'] + '  ' + india_data['url']"
   ]
  },
  {
   "cell_type": "code",
   "execution_count": 22,
   "metadata": {},
   "outputs": [],
   "source": [
    "from sklearn.model_selection import train_test_split\n",
    "X = india_data.title\n",
    "y = india_data.flair\n",
    "\n",
    "X_train, X_test, y_train, y_test = train_test_split(X, y, test_size=0.2) #random state instance will be created by np.random"
   ]
  },
  {
   "cell_type": "code",
   "execution_count": 23,
   "metadata": {},
   "outputs": [
    {
     "name": "stderr",
     "output_type": "stream",
     "text": [
      "C:\\Users\\alkaa\\anaconda3\\lib\\site-packages\\sklearn\\linear_model\\_logistic.py:940: ConvergenceWarning: lbfgs failed to converge (status=1):\n",
      "STOP: TOTAL NO. of ITERATIONS REACHED LIMIT.\n",
      "\n",
      "Increase the number of iterations (max_iter) or scale the data as shown in:\n",
      "    https://scikit-learn.org/stable/modules/preprocessing.html\n",
      "Please also refer to the documentation for alternative solver options:\n",
      "    https://scikit-learn.org/stable/modules/linear_model.html#logistic-regression\n",
      "  extra_warning_msg=_LOGISTIC_SOLVER_CONVERGENCE_MSG)\n"
     ]
    },
    {
     "name": "stdout",
     "output_type": "stream",
     "text": [
      "accuracy 0.61\n",
      "                  precision    recall  f1-score   support\n",
      "\n",
      "   Non-Political       0.43      0.50      0.47        20\n",
      "       Scheduled       0.80      0.57      0.67        21\n",
      "     Photography       0.71      0.71      0.71        17\n",
      "        Politics       0.75      0.71      0.73        17\n",
      "Business/Finance       0.40      0.53      0.45        19\n",
      "  Policy/Economy       0.83      0.91      0.87        22\n",
      "          Sports       0.41      0.61      0.49        18\n",
      "            Food       0.50      0.43      0.46        21\n",
      "        AskIndia       0.62      0.47      0.53        17\n",
      "     Coronavirus       0.82      0.64      0.72        28\n",
      "\n",
      "        accuracy                           0.61       200\n",
      "       macro avg       0.63      0.61      0.61       200\n",
      "    weighted avg       0.64      0.61      0.62       200\n",
      "\n"
     ]
    }
   ],
   "source": [
    "from sklearn.pipeline import Pipeline\n",
    "from sklearn.feature_extraction.text import CountVectorizer\n",
    "from sklearn.feature_extraction.text import TfidfTransformer\n",
    "from sklearn.linear_model import LogisticRegression\n",
    "from sklearn.metrics import accuracy_score, confusion_matrix\n",
    "from sklearn.metrics import classification_report\n",
    "\n",
    "\n",
    "logreg = Pipeline([('vect', CountVectorizer()),\n",
    "                   ('tfidf', TfidfTransformer()),\n",
    "                   ('clf', LogisticRegression(n_jobs=1, C=1e5))])\n",
    "logreg.fit(X_train, y_train)\n",
    "\n",
    "y_pred = logreg.predict(X_test)\n",
    "print('accuracy %s' % accuracy_score(y_pred, y_test))\n",
    "print(classification_report(y_test, y_pred,target_names=flairs))"
   ]
  }
 ],
 "metadata": {
  "kernelspec": {
   "display_name": "Python 3",
   "language": "python",
   "name": "python3"
  },
  "language_info": {
   "codemirror_mode": {
    "name": "ipython",
    "version": 3
   },
   "file_extension": ".py",
   "mimetype": "text/x-python",
   "name": "python",
   "nbconvert_exporter": "python",
   "pygments_lexer": "ipython3",
   "version": "3.7.6"
  }
 },
 "nbformat": 4,
 "nbformat_minor": 4
}

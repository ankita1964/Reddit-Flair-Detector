{
 "cells": [
  {
   "cell_type": "markdown",
   "metadata": {},
   "source": [
    "<h1> 2. Exploratory Data Analysis</h1>"
   ]
  },
  {
   "cell_type": "markdown",
   "metadata": {},
   "source": [
    "<p><b>2.0</b> Reading the data from the csv file and importing some necessary packages. </p>"
   ]
  },
  {
   "cell_type": "code",
   "execution_count": 40,
   "metadata": {},
   "outputs": [],
   "source": [
    "import pandas as pd\n",
    "import os\n",
    "india_data = pd.read_csv(\"reddit-india-data.csv\")"
   ]
  },
  {
   "cell_type": "markdown",
   "metadata": {},
   "source": [
    "<p><b>2.1</b> Understanding the dataset overall in terms of the size and data columns while veryfying if there are any null values. <br>\n",
    "If null values exist that are relevant to the classification, then there would be a need for a function to remove these or add values depending on the dataset as null values adversely affect the performance and accuracy of any machine learning algorithm. \n",
    "<br><br>\n",
    "We also store a list of all the unique flair values into flairs. [Note: While collecting the data, even on multiple attempts are trying different methods, the flair 'Science/Technology' interrupted the code every time. I had to go with excluding that particular flair out of my dataset.]</p>"
   ]
  },
  {
   "cell_type": "code",
   "execution_count": 41,
   "metadata": {},
   "outputs": [
    {
     "name": "stdout",
     "output_type": "stream",
     "text": [
      "\n",
      "Info: \n",
      "\n",
      "<class 'pandas.core.frame.DataFrame'>\n",
      "RangeIndex: 2000 entries, 0 to 1999\n",
      "Data columns (total 8 columns):\n",
      " #   Column        Non-Null Count  Dtype \n",
      "---  ------        --------------  ----- \n",
      " 0   flair         2000 non-null   object\n",
      " 1   title         2000 non-null   object\n",
      " 2   url           2000 non-null   object\n",
      " 3   body          1098 non-null   object\n",
      " 4   num_comments  2000 non-null   int64 \n",
      " 5   comments      1804 non-null   object\n",
      " 6   score         2000 non-null   int64 \n",
      " 7   id            2000 non-null   object\n",
      "dtypes: int64(2), object(6)\n",
      "memory usage: 125.1+ KB\n",
      "\n",
      "Flairs present in the dataset: \n",
      "\n",
      "['Non-Political' 'Scheduled' 'Photography' 'Politics' 'Business/Finance'\n",
      " 'Policy/Economy' 'Sports' 'Food' 'AskIndia' 'Coronavirus']\n"
     ]
    }
   ],
   "source": [
    "print(\"\\nInfo: \\n\")\n",
    "india_data.info()\n",
    "\n",
    "print(\"\\nFlairs present in the dataset: \\n\")\n",
    "flairs = india_data.flair.unique()\n",
    "print(flairs)"
   ]
  },
  {
   "cell_type": "markdown",
   "metadata": {},
   "source": [
    "<p><b>2.2</b> Printing first ten and last ten values to acquire an understanding of what values the data columns actually represent. </p>"
   ]
  },
  {
   "cell_type": "code",
   "execution_count": 42,
   "metadata": {
    "scrolled": true
   },
   "outputs": [
    {
     "data": {
      "text/html": [
       "<div>\n",
       "<style scoped>\n",
       "    .dataframe tbody tr th:only-of-type {\n",
       "        vertical-align: middle;\n",
       "    }\n",
       "\n",
       "    .dataframe tbody tr th {\n",
       "        vertical-align: top;\n",
       "    }\n",
       "\n",
       "    .dataframe thead th {\n",
       "        text-align: right;\n",
       "    }\n",
       "</style>\n",
       "<table border=\"1\" class=\"dataframe\">\n",
       "  <thead>\n",
       "    <tr style=\"text-align: right;\">\n",
       "      <th></th>\n",
       "      <th>flair</th>\n",
       "      <th>title</th>\n",
       "      <th>url</th>\n",
       "      <th>body</th>\n",
       "      <th>num_comments</th>\n",
       "      <th>comments</th>\n",
       "      <th>score</th>\n",
       "      <th>id</th>\n",
       "    </tr>\n",
       "  </thead>\n",
       "  <tbody>\n",
       "    <tr>\n",
       "      <th>0</th>\n",
       "      <td>Non-Political</td>\n",
       "      <td>Indian States / UTs if renamed for countries w...</td>\n",
       "      <td>https://i.redd.it/hk9o11b8dun41.png</td>\n",
       "      <td>NaN</td>\n",
       "      <td>20</td>\n",
       "      <td>nice name for Uttar Pradesh. Ajay Bisht is go...</td>\n",
       "      <td>185</td>\n",
       "      <td>flwd7r</td>\n",
       "    </tr>\n",
       "    <tr>\n",
       "      <th>1</th>\n",
       "      <td>Non-Political</td>\n",
       "      <td>Hotstar finally uploads Sunday’s “Last Week To...</td>\n",
       "      <td>https://www.hotstar.com/in/tv/last-week-tonigh...</td>\n",
       "      <td>NaN</td>\n",
       "      <td>12</td>\n",
       "      <td>First turning off the internet of an entire s...</td>\n",
       "      <td>162</td>\n",
       "      <td>fgb1k3</td>\n",
       "    </tr>\n",
       "    <tr>\n",
       "      <th>2</th>\n",
       "      <td>Non-Political</td>\n",
       "      <td>Best non-political stand up comedian?</td>\n",
       "      <td>https://www.reddit.com/r/india/comments/g3zbrt...</td>\n",
       "      <td>Any thing related to politics gives me anxiety...</td>\n",
       "      <td>9</td>\n",
       "      <td>Abhishek Upmanyu\\n\\n\\nKenny Sebastian\\n\\n\\nBi...</td>\n",
       "      <td>2</td>\n",
       "      <td>g3zbrt</td>\n",
       "    </tr>\n",
       "    <tr>\n",
       "      <th>3</th>\n",
       "      <td>Non-Political</td>\n",
       "      <td>ICSE and ISC exams have been postponed due to ...</td>\n",
       "      <td>https://cisce.org//UploadedFiles/PDF/COVID%201...</td>\n",
       "      <td>NaN</td>\n",
       "      <td>0</td>\n",
       "      <td>NaN</td>\n",
       "      <td>7</td>\n",
       "      <td>fl4viz</td>\n",
       "    </tr>\n",
       "    <tr>\n",
       "      <th>4</th>\n",
       "      <td>Non-Political</td>\n",
       "      <td>[Non-Political]Friend wrote his first book, th...</td>\n",
       "      <td>https://www.reddit.com/r/india/comments/ezqw6i...</td>\n",
       "      <td>A friend of mine wrote his first book \"Music M...</td>\n",
       "      <td>0</td>\n",
       "      <td>NaN</td>\n",
       "      <td>13</td>\n",
       "      <td>ezqw6i</td>\n",
       "    </tr>\n",
       "    <tr>\n",
       "      <th>5</th>\n",
       "      <td>Non-Political</td>\n",
       "      <td>[Non-Political] Wild Karnataka - David Attenbo...</td>\n",
       "      <td>https://youtu.be/gHSVLd4Ao60</td>\n",
       "      <td>NaN</td>\n",
       "      <td>1</td>\n",
       "      <td>Is this real? Did David Attenborough voice a ...</td>\n",
       "      <td>23</td>\n",
       "      <td>ejetgt</td>\n",
       "    </tr>\n",
       "    <tr>\n",
       "      <th>6</th>\n",
       "      <td>Non-Political</td>\n",
       "      <td>[Non-Political] Today the Zoroastrian communit...</td>\n",
       "      <td>https://imgur.com/XY4daDc</td>\n",
       "      <td>NaN</td>\n",
       "      <td>17</td>\n",
       "      <td>Happy Navroz to all dikras and dikris Wow and...</td>\n",
       "      <td>367</td>\n",
       "      <td>crifi9</td>\n",
       "    </tr>\n",
       "    <tr>\n",
       "      <th>7</th>\n",
       "      <td>Non-Political</td>\n",
       "      <td>[Non-Political] This newspaper is 50 year old ...</td>\n",
       "      <td>https://imgur.com/lfOyub8</td>\n",
       "      <td>NaN</td>\n",
       "      <td>13</td>\n",
       "      <td>\"Bankon ka rashtiyakaran janata ke hit mein\" ...</td>\n",
       "      <td>116</td>\n",
       "      <td>cfeur8</td>\n",
       "    </tr>\n",
       "    <tr>\n",
       "      <th>8</th>\n",
       "      <td>Non-Political</td>\n",
       "      <td>Prime Time With Ravish Kumar, April 24, 2019 |...</td>\n",
       "      <td>https://www.youtube.com/watch?v=vCmZlob-PIo</td>\n",
       "      <td>NaN</td>\n",
       "      <td>73</td>\n",
       "      <td>\"Modi ji... kuch fakeeri si hai aapme\" *Arnab...</td>\n",
       "      <td>439</td>\n",
       "      <td>bh4wzu</td>\n",
       "    </tr>\n",
       "    <tr>\n",
       "      <th>9</th>\n",
       "      <td>Non-Political</td>\n",
       "      <td>[Non-Political] Dear Bangalore, I see your gra...</td>\n",
       "      <td>http://i.imgur.com/CZoN8aX.jpg</td>\n",
       "      <td>NaN</td>\n",
       "      <td>12</td>\n",
       "      <td>Nobody :\\n\\nRandom graffiti artist : I'm a ph...</td>\n",
       "      <td>106</td>\n",
       "      <td>bx5zig</td>\n",
       "    </tr>\n",
       "  </tbody>\n",
       "</table>\n",
       "</div>"
      ],
      "text/plain": [
       "           flair                                              title  \\\n",
       "0  Non-Political  Indian States / UTs if renamed for countries w...   \n",
       "1  Non-Political  Hotstar finally uploads Sunday’s “Last Week To...   \n",
       "2  Non-Political              Best non-political stand up comedian?   \n",
       "3  Non-Political  ICSE and ISC exams have been postponed due to ...   \n",
       "4  Non-Political  [Non-Political]Friend wrote his first book, th...   \n",
       "5  Non-Political  [Non-Political] Wild Karnataka - David Attenbo...   \n",
       "6  Non-Political  [Non-Political] Today the Zoroastrian communit...   \n",
       "7  Non-Political  [Non-Political] This newspaper is 50 year old ...   \n",
       "8  Non-Political  Prime Time With Ravish Kumar, April 24, 2019 |...   \n",
       "9  Non-Political  [Non-Political] Dear Bangalore, I see your gra...   \n",
       "\n",
       "                                                 url  \\\n",
       "0                https://i.redd.it/hk9o11b8dun41.png   \n",
       "1  https://www.hotstar.com/in/tv/last-week-tonigh...   \n",
       "2  https://www.reddit.com/r/india/comments/g3zbrt...   \n",
       "3  https://cisce.org//UploadedFiles/PDF/COVID%201...   \n",
       "4  https://www.reddit.com/r/india/comments/ezqw6i...   \n",
       "5                       https://youtu.be/gHSVLd4Ao60   \n",
       "6                          https://imgur.com/XY4daDc   \n",
       "7                          https://imgur.com/lfOyub8   \n",
       "8        https://www.youtube.com/watch?v=vCmZlob-PIo   \n",
       "9                     http://i.imgur.com/CZoN8aX.jpg   \n",
       "\n",
       "                                                body  num_comments  \\\n",
       "0                                                NaN            20   \n",
       "1                                                NaN            12   \n",
       "2  Any thing related to politics gives me anxiety...             9   \n",
       "3                                                NaN             0   \n",
       "4  A friend of mine wrote his first book \"Music M...             0   \n",
       "5                                                NaN             1   \n",
       "6                                                NaN            17   \n",
       "7                                                NaN            13   \n",
       "8                                                NaN            73   \n",
       "9                                                NaN            12   \n",
       "\n",
       "                                            comments  score      id  \n",
       "0   nice name for Uttar Pradesh. Ajay Bisht is go...    185  flwd7r  \n",
       "1   First turning off the internet of an entire s...    162  fgb1k3  \n",
       "2   Abhishek Upmanyu\\n\\n\\nKenny Sebastian\\n\\n\\nBi...      2  g3zbrt  \n",
       "3                                                NaN      7  fl4viz  \n",
       "4                                                NaN     13  ezqw6i  \n",
       "5   Is this real? Did David Attenborough voice a ...     23  ejetgt  \n",
       "6   Happy Navroz to all dikras and dikris Wow and...    367  crifi9  \n",
       "7   \"Bankon ka rashtiyakaran janata ke hit mein\" ...    116  cfeur8  \n",
       "8   \"Modi ji... kuch fakeeri si hai aapme\" *Arnab...    439  bh4wzu  \n",
       "9   Nobody :\\n\\nRandom graffiti artist : I'm a ph...    106  bx5zig  "
      ]
     },
     "execution_count": 42,
     "metadata": {},
     "output_type": "execute_result"
    }
   ],
   "source": [
    "india_data.head(10)"
   ]
  },
  {
   "cell_type": "code",
   "execution_count": 9,
   "metadata": {},
   "outputs": [
    {
     "data": {
      "text/html": [
       "<div>\n",
       "<style scoped>\n",
       "    .dataframe tbody tr th:only-of-type {\n",
       "        vertical-align: middle;\n",
       "    }\n",
       "\n",
       "    .dataframe tbody tr th {\n",
       "        vertical-align: top;\n",
       "    }\n",
       "\n",
       "    .dataframe thead th {\n",
       "        text-align: right;\n",
       "    }\n",
       "</style>\n",
       "<table border=\"1\" class=\"dataframe\">\n",
       "  <thead>\n",
       "    <tr style=\"text-align: right;\">\n",
       "      <th></th>\n",
       "      <th>flair</th>\n",
       "      <th>title</th>\n",
       "      <th>url</th>\n",
       "      <th>body</th>\n",
       "      <th>num_comments</th>\n",
       "      <th>comments</th>\n",
       "      <th>score</th>\n",
       "      <th>id</th>\n",
       "    </tr>\n",
       "  </thead>\n",
       "  <tbody>\n",
       "    <tr>\n",
       "      <th>1990</th>\n",
       "      <td>Coronavirus</td>\n",
       "      <td>Know any Corona Asana? Govt will fund you</td>\n",
       "      <td>https://www.reddit.com/r/india/comments/g1cn1w...</td>\n",
       "      <td>https://www.telegraphindia.com/india/know-any-...</td>\n",
       "      <td>6</td>\n",
       "      <td>Stop breathing aasana We can try some stupid ...</td>\n",
       "      <td>33</td>\n",
       "      <td>g1cn1w</td>\n",
       "    </tr>\n",
       "    <tr>\n",
       "      <th>1991</th>\n",
       "      <td>Coronavirus</td>\n",
       "      <td>Aggressive testing, contact tracing, cooked me...</td>\n",
       "      <td>https://www.washingtonpost.com/world/aggressiv...</td>\n",
       "      <td>NaN</td>\n",
       "      <td>8</td>\n",
       "      <td>Most developed state of India</td>\n",
       "      <td>77</td>\n",
       "      <td>fz0gfa</td>\n",
       "    </tr>\n",
       "    <tr>\n",
       "      <th>1992</th>\n",
       "      <td>Coronavirus</td>\n",
       "      <td>Modi had trapped himself in a corner, then cor...</td>\n",
       "      <td>https://theprint.in/opinion/modi-had-trapped-h...</td>\n",
       "      <td>NaN</td>\n",
       "      <td>35</td>\n",
       "      <td>This is absolutely crazy. I'm no fan of this ...</td>\n",
       "      <td>193</td>\n",
       "      <td>fyvv58</td>\n",
       "    </tr>\n",
       "    <tr>\n",
       "      <th>1993</th>\n",
       "      <td>Coronavirus</td>\n",
       "      <td>Coronavirus crisis: Akshay Kumar donates Rs 3 ...</td>\n",
       "      <td>https://www.indiatoday.in/movies/celebrities/s...</td>\n",
       "      <td>NaN</td>\n",
       "      <td>51</td>\n",
       "      <td>Most generous foreigner. Thank you Rajiv. To ...</td>\n",
       "      <td>325</td>\n",
       "      <td>fyv1jv</td>\n",
       "    </tr>\n",
       "    <tr>\n",
       "      <th>1994</th>\n",
       "      <td>Coronavirus</td>\n",
       "      <td>Covid-19: How can we help?</td>\n",
       "      <td>https://www.reddit.com/r/india/comments/g19u70...</td>\n",
       "      <td>A lot of us are not in a position to physicall...</td>\n",
       "      <td>3</td>\n",
       "      <td>Harsh Mander's Karwaan e Mohabbat is doing ve...</td>\n",
       "      <td>22</td>\n",
       "      <td>g19u70</td>\n",
       "    </tr>\n",
       "    <tr>\n",
       "      <th>1995</th>\n",
       "      <td>Coronavirus</td>\n",
       "      <td>Coronavirus update: Maharashtra lockdown till ...</td>\n",
       "      <td>https://www.hindustantimes.com/india-news/maha...</td>\n",
       "      <td>NaN</td>\n",
       "      <td>0</td>\n",
       "      <td>NaN</td>\n",
       "      <td>28</td>\n",
       "      <td>fz4ibx</td>\n",
       "    </tr>\n",
       "    <tr>\n",
       "      <th>1996</th>\n",
       "      <td>Coronavirus</td>\n",
       "      <td>India's lockdown had near 0 effect on the spre...</td>\n",
       "      <td>https://www.reddit.com/r/india/comments/fzs4jb...</td>\n",
       "      <td>See the total cases on log scale here:\\nhttps:...</td>\n",
       "      <td>12</td>\n",
       "      <td>I don't think anyone would have supported a n...</td>\n",
       "      <td>0</td>\n",
       "      <td>fzs4jb</td>\n",
       "    </tr>\n",
       "    <tr>\n",
       "      <th>1997</th>\n",
       "      <td>Coronavirus</td>\n",
       "      <td>17 Ludhiana cops, Judge quarantined as arreste...</td>\n",
       "      <td>https://www.news18.com/news/india/17-ludhiana-...</td>\n",
       "      <td>NaN</td>\n",
       "      <td>3</td>\n",
       "      <td>Nope still not community transmission</td>\n",
       "      <td>47</td>\n",
       "      <td>fz2it1</td>\n",
       "    </tr>\n",
       "    <tr>\n",
       "      <th>1998</th>\n",
       "      <td>Coronavirus</td>\n",
       "      <td>Coronavirus Outbreak: A database of books, per...</td>\n",
       "      <td>https://www.firstpost.com/long-reads/coronavir...</td>\n",
       "      <td>NaN</td>\n",
       "      <td>0</td>\n",
       "      <td>NaN</td>\n",
       "      <td>3</td>\n",
       "      <td>fzo3k4</td>\n",
       "    </tr>\n",
       "    <tr>\n",
       "      <th>1999</th>\n",
       "      <td>Coronavirus</td>\n",
       "      <td>Covid-19: Kamal Nath says lockdown was delayed...</td>\n",
       "      <td>https://scroll.in/latest/958962/covid-19-kamal...</td>\n",
       "      <td>NaN</td>\n",
       "      <td>38</td>\n",
       "      <td>*I has biggest IQ in the whole MP* - Probably...</td>\n",
       "      <td>439</td>\n",
       "      <td>g0bfmo</td>\n",
       "    </tr>\n",
       "  </tbody>\n",
       "</table>\n",
       "</div>"
      ],
      "text/plain": [
       "            flair                                              title  \\\n",
       "1990  Coronavirus          Know any Corona Asana? Govt will fund you   \n",
       "1991  Coronavirus  Aggressive testing, contact tracing, cooked me...   \n",
       "1992  Coronavirus  Modi had trapped himself in a corner, then cor...   \n",
       "1993  Coronavirus  Coronavirus crisis: Akshay Kumar donates Rs 3 ...   \n",
       "1994  Coronavirus                         Covid-19: How can we help?   \n",
       "1995  Coronavirus  Coronavirus update: Maharashtra lockdown till ...   \n",
       "1996  Coronavirus  India's lockdown had near 0 effect on the spre...   \n",
       "1997  Coronavirus  17 Ludhiana cops, Judge quarantined as arreste...   \n",
       "1998  Coronavirus  Coronavirus Outbreak: A database of books, per...   \n",
       "1999  Coronavirus  Covid-19: Kamal Nath says lockdown was delayed...   \n",
       "\n",
       "                                                    url  \\\n",
       "1990  https://www.reddit.com/r/india/comments/g1cn1w...   \n",
       "1991  https://www.washingtonpost.com/world/aggressiv...   \n",
       "1992  https://theprint.in/opinion/modi-had-trapped-h...   \n",
       "1993  https://www.indiatoday.in/movies/celebrities/s...   \n",
       "1994  https://www.reddit.com/r/india/comments/g19u70...   \n",
       "1995  https://www.hindustantimes.com/india-news/maha...   \n",
       "1996  https://www.reddit.com/r/india/comments/fzs4jb...   \n",
       "1997  https://www.news18.com/news/india/17-ludhiana-...   \n",
       "1998  https://www.firstpost.com/long-reads/coronavir...   \n",
       "1999  https://scroll.in/latest/958962/covid-19-kamal...   \n",
       "\n",
       "                                                   body  num_comments  \\\n",
       "1990  https://www.telegraphindia.com/india/know-any-...             6   \n",
       "1991                                                NaN             8   \n",
       "1992                                                NaN            35   \n",
       "1993                                                NaN            51   \n",
       "1994  A lot of us are not in a position to physicall...             3   \n",
       "1995                                                NaN             0   \n",
       "1996  See the total cases on log scale here:\\nhttps:...            12   \n",
       "1997                                                NaN             3   \n",
       "1998                                                NaN             0   \n",
       "1999                                                NaN            38   \n",
       "\n",
       "                                               comments  score      id  \n",
       "1990   Stop breathing aasana We can try some stupid ...     33  g1cn1w  \n",
       "1991                      Most developed state of India     77  fz0gfa  \n",
       "1992   This is absolutely crazy. I'm no fan of this ...    193  fyvv58  \n",
       "1993   Most generous foreigner. Thank you Rajiv. To ...    325  fyv1jv  \n",
       "1994   Harsh Mander's Karwaan e Mohabbat is doing ve...     22  g19u70  \n",
       "1995                                                NaN     28  fz4ibx  \n",
       "1996   I don't think anyone would have supported a n...      0  fzs4jb  \n",
       "1997              Nope still not community transmission     47  fz2it1  \n",
       "1998                                                NaN      3  fzo3k4  \n",
       "1999   *I has biggest IQ in the whole MP* - Probably...    439  g0bfmo  "
      ]
     },
     "execution_count": 9,
     "metadata": {},
     "output_type": "execute_result"
    }
   ],
   "source": [
    "india_data.tail(10)"
   ]
  },
  {
   "cell_type": "markdown",
   "metadata": {},
   "source": [
    "<p> Observation from 2.1, 2.2 and 2.3: The body column has a great number of null values. </p>"
   ]
  },
  {
   "cell_type": "markdown",
   "metadata": {},
   "source": [
    "<p><b>2.3</b> Using matplotlib here, we are plotting the 'flair' against the 'number of occurrences' of the flair in our dataset to see if there is variation in how much data is present for each flair. In this case, while collecting data, it was ensured that an equal amount of data for each flair was collected and the dataset is hence, very balanced. </p> "
   ]
  },
  {
   "cell_type": "code",
   "execution_count": 43,
   "metadata": {
    "scrolled": true
   },
   "outputs": [
    {
     "data": {
      "text/plain": [
       "<matplotlib.axes._subplots.AxesSubplot at 0x1c6ce5ba448>"
      ]
     },
     "execution_count": 43,
     "metadata": {},
     "output_type": "execute_result"
    },
    {
     "data": {
      "image/png": "[encoded data removed]",
      "text/plain": [
       "<Figure size 864x216 with 1 Axes>"
      ]
     },
     "metadata": {
      "needs_background": "light"
     },
     "output_type": "display_data"
    }
   ],
   "source": [
    "import matplotlib.pyplot as plt\n",
    "\n",
    "plt.figure(figsize=(12,3))\n",
    "plt.ylabel('Number of Occurrences', fontsize=12)\n",
    "plt.xlabel('Flair', fontsize=12)\n",
    "india_data.flair.value_counts().plot(kind='bar')"
   ]
  },
  {
   "cell_type": "markdown",
   "metadata": {},
   "source": [
    "<p><b> 2.4 </b> A plot for the number of comments for each flair. This could later determine the results of this number on the classifier. </p>"
   ]
  },
  {
   "cell_type": "code",
   "execution_count": 44,
   "metadata": {},
   "outputs": [
    {
     "data": {
      "text/plain": [
       "Text(0.5, 1.0, 'Number of Comments for each Flair')"
      ]
     },
     "execution_count": 44,
     "metadata": {},
     "output_type": "execute_result"
    },
    {
     "data": {
      "image/png": "[encoded data removed]",
      "text/plain": [
       "<Figure size 1296x432 with 1 Axes>"
      ]
     },
     "metadata": {
      "needs_background": "light"
     },
     "output_type": "display_data"
    }
   ],
   "source": [
    "flairs = ['Non-Political', 'Scheduled', 'Photography', 'Politics', 'Business/Finance',\n",
    " 'Policy/Economy', 'Sports', 'Food', 'AskIndia', 'Coronavirus']\n",
    "flair_comment_count = []\n",
    "for flair in flairs:\n",
    "    flair_comment_count.append(india_data.loc[india_data['flair'] == flair, 'num_comments'].sum(skipna = True))\n",
    "plt.figure(figsize=(18,6))\n",
    "plt.bar(flairs,flair_comment_count,color=(0.2, 0.4, 0.6, 0.6))\n",
    "plt.xlabel('Flair', fontsize=12)\n",
    "plt.ylabel('Number of comments', fontsize=12)\n",
    "plt.title('Number of Comments for each Flair', fontsize = 16)"
   ]
  },
  {
   "cell_type": "markdown",
   "metadata": {},
   "source": [
    "<p><b>2.5 </b> Plotting length of: a) title, b) title + comments, c) title + comments + body, and d) title + comments + body + url <br>  \n",
    "against the unique flair values. This will be useful in comparing size of the x value with the y value which is the flair, and hence help us draw conclusions about the relation between the length of the x value and the flair prediction accuracy. </p> "
   ]
  },
  {
   "cell_type": "markdown",
   "metadata": {},
   "source": [
    "<p><b>2.5.1</b> Preprocessing and cleaning step where we define a function to remove stopwords and remove symbols or replace by space."
   ]
  },
  {
   "cell_type": "code",
   "execution_count": 45,
   "metadata": {},
   "outputs": [],
   "source": [
    "import re\n",
    "import nltk\n",
    "from nltk.corpus import stopwords\n",
    "\n",
    "replace_by_space = re.compile('[/(){}\\[\\]\\|@,;]')\n",
    "bad_symbols = re.compile('[^0-9a-z #+_]')\n",
    "stop_words = stopwords.words('english')\n",
    "\n",
    "def clean_data(text):\n",
    "    #converting to lowercase\n",
    "    text = text.lower()\n",
    "    #re.sub(new_value, text_to_processed) \n",
    "    text = replace_by_space.sub(' ', text)\n",
    "    text = bad_symbols.sub('', text)\n",
    "    #removing the stopwords\n",
    "    text = ' '.join(word for word in text.split() if word not in stop_words) \n",
    "    return text"
   ]
  },
  {
   "cell_type": "code",
   "execution_count": 46,
   "metadata": {},
   "outputs": [],
   "source": [
    "india_data['title'] = india_data['title'].apply(clean_data)\n",
    "india_data['comments'] = india_data['comments'].astype('str').apply(clean_data)\n",
    "india_data['body'] = india_data['body'].astype('str').apply(clean_data)"
   ]
  },
  {
   "cell_type": "code",
   "execution_count": 47,
   "metadata": {},
   "outputs": [],
   "source": [
    "def clean_url(u):\n",
    "    if u.startswith(\"http://\"):\n",
    "        u = u[7:]\n",
    "    if u.startswith(\"https://\"):\n",
    "        u = u[8:]\n",
    "    if u.startswith(\"www.\"):\n",
    "        u = u[4:]\n",
    "    if u.endswith(\"/\"):\n",
    "        u = u[:-1]\n",
    "    return u"
   ]
  },
  {
   "cell_type": "code",
   "execution_count": 48,
   "metadata": {},
   "outputs": [],
   "source": [
    "india_data['url'] = india_data['url'].apply(clean_url)\n",
    "india_data['url'] = india_data['url'].apply(clean_data)"
   ]
  },
  {
   "cell_type": "code",
   "execution_count": 49,
   "metadata": {},
   "outputs": [
    {
     "name": "stdout",
     "output_type": "stream",
     "text": [
      "Non-Political\n",
      "Scheduled\n",
      "Photography\n",
      "Politics\n",
      "Business/Finance\n",
      "Policy/Economy\n",
      "Sports\n",
      "Food\n",
      "AskIndia\n",
      "Coronavirus\n",
      "[12237, 12717, 10639, 15074, 10877, 12257, 12093, 13823, 10854, 14956]\n"
     ]
    },
    {
     "data": {
      "text/plain": [
       "Text(0.5, 1.0, 'Plotting total length of Titles with flair')"
      ]
     },
     "execution_count": 49,
     "metadata": {},
     "output_type": "execute_result"
    },
    {
     "data": {
      "image/png": "[encoded data removed]",
      "text/plain": [
       "<Figure size 1296x288 with 1 Axes>"
      ]
     },
     "metadata": {
      "needs_background": "light"
     },
     "output_type": "display_data"
    }
   ],
   "source": [
    "title_len = \"\"\n",
    "flair_title_len = []\n",
    "for flair in flairs:\n",
    "    print(flair)\n",
    "    title_len = (india_data.loc[india_data['flair'] == flair, 'title'].sum())\n",
    "    flair_title_len.append(len(title_len))\n",
    "print(flair_title_len)\n",
    "\n",
    "plt.figure(figsize=(18,4))\n",
    "plt.bar(flairs,flair_title_len,color='c')\n",
    "plt.xlabel('Flair', fontsize=12)\n",
    "plt.ylabel('Title Length', fontsize=12)\n",
    "plt.title('Plotting total length of Titles with flair', fontsize = 16)"
   ]
  },
  {
   "cell_type": "code",
   "execution_count": 50,
   "metadata": {},
   "outputs": [
    {
     "name": "stdout",
     "output_type": "stream",
     "text": [
      "Non-Political\n",
      "Scheduled\n",
      "Photography\n",
      "Politics\n",
      "Business/Finance\n",
      "Policy/Economy\n",
      "Sports\n",
      "Food\n",
      "AskIndia\n",
      "Coronavirus\n",
      "[149577, 287634, 177338, 402921, 427274, 523924, 314195, 286705, 1496682, 125819]\n"
     ]
    },
    {
     "data": {
      "text/plain": [
       "Text(0.5, 1.0, 'Plotting total length of Comments with Flair')"
      ]
     },
     "execution_count": 50,
     "metadata": {},
     "output_type": "execute_result"
    },
    {
     "data": {
      "image/png": "[encoded data removed]",
      "text/plain": [
       "<Figure size 1296x288 with 1 Axes>"
      ]
     },
     "metadata": {
      "needs_background": "light"
     },
     "output_type": "display_data"
    }
   ],
   "source": [
    "comment_len = \"\"\n",
    "flair_comment_len = []\n",
    "for flair in flairs:\n",
    "    print(flair)\n",
    "    comment_len = (india_data.loc[india_data['flair'] == flair, 'comments'].sum(skipna = True))\n",
    "    flair_comment_len.append(len(comment_len))\n",
    "print(flair_comment_len)\n",
    "\n",
    "plt.figure(figsize=(18,4))\n",
    "plt.bar(flairs,flair_comment_len,color='y')\n",
    "\n",
    "plt.xlabel('Flair', fontsize=12)\n",
    "plt.ylabel('Total Comments Length', fontsize=12)\n",
    "plt.title('Plotting total length of Comments with Flair', fontsize = 16)"
   ]
  },
  {
   "cell_type": "code",
   "execution_count": 51,
   "metadata": {},
   "outputs": [
    {
     "name": "stdout",
     "output_type": "stream",
     "text": [
      "Non-Political\n",
      "Scheduled\n",
      "Photography\n",
      "Politics\n",
      "Business/Finance\n",
      "Policy/Economy\n",
      "Sports\n",
      "Food\n",
      "AskIndia\n",
      "Coronavirus\n",
      "[66225, 145111, 82609, 78029, 617554, 450820, 114575, 37307, 135252, 49557]\n"
     ]
    },
    {
     "data": {
      "text/plain": [
       "Text(0.5, 1.0, 'Plotting total length of Body with Flair')"
      ]
     },
     "execution_count": 51,
     "metadata": {},
     "output_type": "execute_result"
    },
    {
     "data": {
      "image/png": "[encoded data removed]",
      "text/plain": [
       "<Figure size 1296x288 with 1 Axes>"
      ]
     },
     "metadata": {
      "needs_background": "light"
     },
     "output_type": "display_data"
    }
   ],
   "source": [
    "body_len = \"\"\n",
    "flair_body_len = []\n",
    "for flair in flairs:\n",
    "    print(flair)\n",
    "    body_len = (india_data.loc[india_data['flair'] == flair, 'body'].sum(skipna = True))\n",
    "    flair_body_len.append(len(body_len))\n",
    "print(flair_body_len)\n",
    "\n",
    "plt.figure(figsize=(18,4))\n",
    "plt.bar(flairs,flair_body_len,color='m')\n",
    "plt.xlabel('Flair', fontsize=12)\n",
    "plt.ylabel('Body Length', fontsize=12)\n",
    "plt.title('Plotting total length of Body with Flair', fontsize = 16)"
   ]
  },
  {
   "cell_type": "code",
   "execution_count": 52,
   "metadata": {},
   "outputs": [
    {
     "name": "stdout",
     "output_type": "stream",
     "text": [
      "Non-Political\n",
      "Scheduled\n",
      "Photography\n",
      "Politics\n",
      "Business/Finance\n",
      "Policy/Economy\n",
      "Sports\n",
      "Food\n",
      "AskIndia\n",
      "Coronavirus\n",
      "[12503, 15388, 12597, 15704, 16295, 16169, 15361, 16637, 15500, 19099]\n"
     ]
    },
    {
     "data": {
      "text/plain": [
       "Text(0.5, 1.0, 'Plotting total length of URL with Flair')"
      ]
     },
     "execution_count": 52,
     "metadata": {},
     "output_type": "execute_result"
    },
    {
     "data": {
      "image/png": "[encoded data removed]",
      "text/plain": [
       "<Figure size 1296x288 with 1 Axes>"
      ]
     },
     "metadata": {
      "needs_background": "light"
     },
     "output_type": "display_data"
    }
   ],
   "source": [
    "url_len = \"\"\n",
    "flair_url_len = []\n",
    "for flair in flairs:\n",
    "    print(flair)\n",
    "    url_len = (india_data.loc[india_data['flair'] == flair, 'url'].sum(skipna = True))\n",
    "    flair_url_len.append(len(url_len))\n",
    "print(flair_url_len)\n",
    "\n",
    "plt.figure(figsize=(18,4))\n",
    "plt.bar(flairs,flair_url_len,color='k')\n",
    "plt.xlabel('Flair', fontsize=12)\n",
    "plt.ylabel('URL Length', fontsize=12)\n",
    "plt.title('Plotting total length of URL with Flair', fontsize = 16)"
   ]
  },
  {
   "cell_type": "markdown",
   "metadata": {},
   "source": [
    "<p><b>2.6 </b>Finding the most used words for each flair would be another important factor to know for the flair detector. </p>"
   ]
  },
  {
   "cell_type": "code",
   "execution_count": 53,
   "metadata": {},
   "outputs": [
    {
     "name": "stdout",
     "output_type": "stream",
     "text": [
      "nonpolitical    148\n",
      "political        59\n",
      "non              53\n",
      "india            36\n",
      "indian           15\n",
      "dtype: int64\n",
      "scheduled    75\n",
      "thread       38\n",
      "india        29\n",
      "schedule     24\n",
      "caste        13\n",
      "dtype: int64\n",
      "photography    130\n",
      "thread          69\n",
      "india           38\n",
      "weekly          35\n",
      "2019            24\n",
      "dtype: int64\n",
      "political    67\n",
      "politics     62\n",
      "india        30\n",
      "delhi        21\n",
      "bjp          15\n",
      "dtype: int64\n",
      "week       54\n",
      "indian     41\n",
      "india      32\n",
      "last       30\n",
      "finance    26\n",
      "dtype: int64\n",
      "india      59\n",
      "economy    44\n",
      "modi       22\n",
      "indias     21\n",
      "indian     20\n",
      "dtype: int64\n",
      "sports    80\n",
      "india     44\n",
      "indian    23\n",
      "sport     19\n",
      "like      11\n",
      "dtype: int64\n",
      "food           165\n",
      "lockdown        38\n",
      "india           20\n",
      "coronavirus     17\n",
      "delivery        17\n",
      "dtype: int64\n",
      "askindia    146\n",
      "india        38\n",
      "indian       16\n",
      "help         14\n",
      "need         13\n",
      "dtype: int64\n",
      "coronavirus    177\n",
      "india           61\n",
      "lockdown        33\n",
      "covid19         27\n",
      "cases           18\n",
      "dtype: int64\n"
     ]
    }
   ],
   "source": [
    "for flair in flairs: \n",
    "    print( pd.Series(' '.join(india_data.loc[india_data['flair'] == flair, 'title']).split()).value_counts()[:5] )"
   ]
  },
  {
   "cell_type": "code",
   "execution_count": 54,
   "metadata": {},
   "outputs": [
    {
     "name": "stdout",
     "output_type": "stream",
     "text": [
      "dont      138\n",
      "like      132\n",
      "people    125\n",
      "india     125\n",
      "one       102\n",
      "dtype: int64\n",
      "people    303\n",
      "like      261\n",
      "get       227\n",
      "one       222\n",
      "caste     220\n",
      "dtype: int64\n",
      "https    210\n",
      "get      169\n",
      "good     169\n",
      "like     152\n",
      "dont     150\n",
      "dtype: int64\n",
      "people    515\n",
      "like      358\n",
      "bjp       330\n",
      "https     328\n",
      "dont      290\n",
      "dtype: int64\n",
      "india     336\n",
      "get       294\n",
      "like      294\n",
      "good      283\n",
      "people    268\n",
      "dtype: int64\n",
      "india         595\n",
      "people        474\n",
      "like          415\n",
      "economy       376\n",
      "government    362\n",
      "dtype: int64\n",
      "like      327\n",
      "india     314\n",
      "people    307\n",
      "dont      265\n",
      "sports    260\n",
      "dtype: int64\n",
      "people    520\n",
      "food      387\n",
      "like      285\n",
      "dont      279\n",
      "get       181\n",
      "dtype: int64\n",
      "https     1966\n",
      "people    1960\n",
      "india     1233\n",
      "cases     1216\n",
      "status    1171\n",
      "dtype: int64\n",
      "https       153\n",
      "cases       146\n",
      "people      143\n",
      "lockdown    115\n",
      "india       114\n",
      "dtype: int64\n"
     ]
    }
   ],
   "source": [
    "for flair in flairs: \n",
    "    print(pd.Series(' '.join(india_data.loc[india_data['flair'] == flair, 'comments']).split()).value_counts()[:5])"
   ]
  },
  {
   "cell_type": "code",
   "execution_count": 55,
   "metadata": {},
   "outputs": [
    {
     "name": "stdout",
     "output_type": "stream",
     "text": [
      "india        113\n",
      "comments     111\n",
      "r            111\n",
      "redditcom    111\n",
      "iimgurcom     18\n",
      "dtype: int64\n",
      "india        145\n",
      "r            131\n",
      "comments     131\n",
      "redditcom    131\n",
      "article       16\n",
      "dtype: int64\n",
      "india        125\n",
      "redditcom    123\n",
      "r            123\n",
      "comments     123\n",
      "ireddit       19\n",
      "dtype: int64\n",
      "india        89\n",
      "comments     68\n",
      "r            68\n",
      "redditcom    68\n",
      "status       21\n",
      "dtype: int64\n",
      "india                                              157\n",
      "comments                                           156\n",
      "redditcom                                          156\n",
      "r                                                  156\n",
      "last_week_in_indian_economy_for_the_week_ending     21\n",
      "dtype: int64\n",
      "india        136\n",
      "comments     130\n",
      "r            130\n",
      "redditcom    130\n",
      "opinion       15\n",
      "dtype: int64\n",
      "india        120\n",
      "comments     114\n",
      "r            114\n",
      "redditcom    114\n",
      "ireddit       14\n",
      "dtype: int64\n",
      "india        83\n",
      "redditcom    62\n",
      "r            62\n",
      "comments     62\n",
      "news         27\n",
      "dtype: int64\n",
      "india        198\n",
      "comments     198\n",
      "r            198\n",
      "redditcom    198\n",
      "imgurcom       2\n",
      "dtype: int64\n",
      "india        62\n",
      "news         46\n",
      "redditcom    26\n",
      "r            26\n",
      "comments     26\n",
      "dtype: int64\n"
     ]
    }
   ],
   "source": [
    "for flair in flairs: \n",
    "    print(pd.Series(' '.join(india_data.loc[india_data['flair'] == flair, 'url']).split()).value_counts()[:5])"
   ]
  }
 ],
 "metadata": {
  "kernelspec": {
   "display_name": "Python 3",
   "language": "python",
   "name": "python3"
  },
  "language_info": {
   "codemirror_mode": {
    "name": "ipython",
    "version": 3
   },
   "file_extension": ".py",
   "mimetype": "text/x-python",
   "name": "python",
   "nbconvert_exporter": "python",
   "pygments_lexer": "ipython3",
   "version": "3.7.6"
  }
 },
 "nbformat": 4,
 "nbformat_minor": 4
}
